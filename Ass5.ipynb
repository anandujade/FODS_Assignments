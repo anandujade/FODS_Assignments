{
 "cells": [
  {
   "cell_type": "code",
   "execution_count": 1,
   "id": "1d2249ab-631d-4aff-9305-ce7eb2ffe99d",
   "metadata": {},
   "outputs": [],
   "source": [
    "import pandas as pd"
   ]
  },
  {
   "cell_type": "code",
   "execution_count": 3,
   "id": "12ad6a12-2818-4e8b-9725-a33d4d77874c",
   "metadata": {},
   "outputs": [],
   "source": [
    "file_path = \"c:/airindex.csv\"\n",
    "data = pd.read_csv(file_path)"
   ]
  },
  {
   "cell_type": "code",
   "execution_count": 5,
   "id": "a4056b53-edef-4292-9a21-c5dd62164f7e",
   "metadata": {},
   "outputs": [
    {
     "name": "stdout",
     "output_type": "stream",
     "text": [
      "<class 'pandas.core.frame.DataFrame'>\n",
      "RangeIndex: 15690 entries, 0 to 15689\n",
      "Data columns (total 4 columns):\n",
      " #   Column     Non-Null Count  Dtype \n",
      "---  ------     --------------  ----- \n",
      " 0   Date       15690 non-null  object\n",
      " 1   Country    15690 non-null  object\n",
      " 2   Status     15690 non-null  object\n",
      " 3   AQI Value  15690 non-null  int64 \n",
      "dtypes: int64(1), object(3)\n",
      "memory usage: 490.4+ KB\n"
     ]
    }
   ],
   "source": [
    "data.head(),\n",
    "data.info()"
   ]
  },
  {
   "cell_type": "code",
   "execution_count": 7,
   "id": "054df4ca-7a1f-4e42-9e98-8ac91e017db2",
   "metadata": {},
   "outputs": [],
   "source": [
    "missing_values = data.isnull().sum()"
   ]
  },
  {
   "cell_type": "code",
   "execution_count": 9,
   "id": "0ef8b801-721f-436b-995a-140360ec2b7d",
   "metadata": {},
   "outputs": [],
   "source": [
    "duplicates_count = data.duplicated().sum()"
   ]
  },
  {
   "cell_type": "code",
   "execution_count": 11,
   "id": "c54cb2d2-8fbb-4386-b665-2ff3eb5e4595",
   "metadata": {},
   "outputs": [],
   "source": [
    "data['Date'] = pd.to_datetime(data['Date'], errors='coerce')"
   ]
  },
  {
   "cell_type": "code",
   "execution_count": 13,
   "id": "9939ddf4-d376-4346-b2d8-a04f84640fb2",
   "metadata": {},
   "outputs": [],
   "source": [
    "invalid_dates = data[data['Date'].isnull()]"
   ]
  },
  {
   "cell_type": "code",
   "execution_count": 15,
   "id": "8c49f6de-e4a3-4ff3-86ac-706a5885b573",
   "metadata": {},
   "outputs": [],
   "source": [
    "cleaning_summary = {\n",
    "    \"Missing Values\": missing_values,\n",
    "    \"Duplicate Rows\": duplicates_count,\n",
    "    \"Invalid Dates\": invalid_dates.shape[0]\n",
    "}"
   ]
  },
  {
   "cell_type": "code",
   "execution_count": 17,
   "id": "c022e16b-7271-43a4-a5f6-ed180209db2d",
   "metadata": {},
   "outputs": [],
   "source": [
    "data['Year'] = data['Date'].dt.year\n",
    "data['Month'] = data['Date'].dt.month"
   ]
  },
  {
   "cell_type": "code",
   "execution_count": 19,
   "id": "863aa110-cb9f-4665-a2ad-05018ff8634f",
   "metadata": {},
   "outputs": [],
   "source": [
    "data.columns = data.columns.str.lower().str.replace(\" \", \"_\")"
   ]
  },
  {
   "cell_type": "code",
   "execution_count": 21,
   "id": "12c6e887-c70f-47e4-b747-c841c4693098",
   "metadata": {},
   "outputs": [
    {
     "data": {
      "text/plain": [
       "({'Missing Values': Date         0\n",
       "  Country      0\n",
       "  Status       0\n",
       "  AQI Value    0\n",
       "  dtype: int64,\n",
       "  'Duplicate Rows': 300,\n",
       "  'Invalid Dates': 0},\n",
       "         date    country                          status  aqi_value  year  \\\n",
       " 0 2022-07-21    Albania                            Good         14  2022   \n",
       " 1 2022-07-21    Algeria                        Moderate         65  2022   \n",
       " 2 2022-07-21    Andorra                        Moderate         55  2022   \n",
       " 3 2022-07-21     Angola  Unhealthy for Sensitive Groups        113  2022   \n",
       " 4 2022-07-21  Argentina                        Moderate         63  2022   \n",
       " \n",
       "    month  \n",
       " 0      7  \n",
       " 1      7  \n",
       " 2      7  \n",
       " 3      7  \n",
       " 4      7  )"
      ]
     },
     "execution_count": 21,
     "metadata": {},
     "output_type": "execute_result"
    }
   ],
   "source": [
    "cleaning_summary, data.head()"
   ]
  },
  {
   "cell_type": "code",
   "execution_count": null,
   "id": "92083b40-3ab8-4858-b815-b65b9a54ac25",
   "metadata": {},
   "outputs": [],
   "source": []
  }
 ],
 "metadata": {
  "kernelspec": {
   "display_name": "Python 3 (ipykernel)",
   "language": "python",
   "name": "python3"
  },
  "language_info": {
   "codemirror_mode": {
    "name": "ipython",
    "version": 3
   },
   "file_extension": ".py",
   "mimetype": "text/x-python",
   "name": "python",
   "nbconvert_exporter": "python",
   "pygments_lexer": "ipython3",
   "version": "3.12.4"
  }
 },
 "nbformat": 4,
 "nbformat_minor": 5
}
